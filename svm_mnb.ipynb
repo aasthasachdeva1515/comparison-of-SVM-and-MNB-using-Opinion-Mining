{
 "cells": [
  {
   "cell_type": "code",
   "execution_count": 1,
   "id": "96130de7",
   "metadata": {},
   "outputs": [],
   "source": [
    "import numpy as np\n",
    "import pandas as pd\n"
   ]
  },
  {
   "cell_type": "code",
   "execution_count": 2,
   "id": "984cadb0",
   "metadata": {},
   "outputs": [],
   "source": [
    "import matplotlib.pyplot as plt\n",
    "import seaborn as sns\n",
    "import re\n",
    "import string\n",
    "import missingno as msno\n",
    "import nltk\n"
   ]
  },
  {
   "cell_type": "code",
   "execution_count": 3,
   "id": "5b4e8d1e",
   "metadata": {},
   "outputs": [
    {
     "name": "stdout",
     "output_type": "stream",
     "text": [
      "Libraries Imported\n"
     ]
    }
   ],
   "source": [
    "from itertools import chain\n",
    "from sklearn.metrics import confusion_matrix\n",
    "from sklearn.metrics import roc_curve, auc\n",
    "from sklearn.model_selection import train_test_split\n",
    "from sklearn.naive_bayes import MultinomialNB\n",
    "from sklearn.feature_extraction.text import TfidfVectorizer\n",
    "import random\n",
    "%matplotlib inline \n",
    "\n",
    "print(\"Libraries Imported\")\n"
   ]
  },
  {
   "cell_type": "code",
   "execution_count": 4,
   "id": "ca39bd0c",
   "metadata": {},
   "outputs": [
    {
     "data": {
      "text/html": [
       "<div>\n",
       "<style scoped>\n",
       "    .dataframe tbody tr th:only-of-type {\n",
       "        vertical-align: middle;\n",
       "    }\n",
       "\n",
       "    .dataframe tbody tr th {\n",
       "        vertical-align: top;\n",
       "    }\n",
       "\n",
       "    .dataframe thead th {\n",
       "        text-align: right;\n",
       "    }\n",
       "</style>\n",
       "<table border=\"1\" class=\"dataframe\">\n",
       "  <thead>\n",
       "    <tr style=\"text-align: right;\">\n",
       "      <th></th>\n",
       "      <th>class_label</th>\n",
       "      <th>id</th>\n",
       "      <th>date</th>\n",
       "      <th>flag</th>\n",
       "      <th>userid</th>\n",
       "      <th>tweet</th>\n",
       "    </tr>\n",
       "  </thead>\n",
       "  <tbody>\n",
       "    <tr>\n",
       "      <th>0</th>\n",
       "      <td>0</td>\n",
       "      <td>1467810369</td>\n",
       "      <td>Mon Apr 06 22:19:45 PDT 2009</td>\n",
       "      <td>NO_QUERY</td>\n",
       "      <td>_TheSpecialOne_</td>\n",
       "      <td>@switchfoot http://twitpic.com/2y1zl - Awww, t...</td>\n",
       "    </tr>\n",
       "    <tr>\n",
       "      <th>1</th>\n",
       "      <td>0</td>\n",
       "      <td>1467810672</td>\n",
       "      <td>Mon Apr 06 22:19:49 PDT 2009</td>\n",
       "      <td>NO_QUERY</td>\n",
       "      <td>scotthamilton</td>\n",
       "      <td>is upset that he can't update his Facebook by ...</td>\n",
       "    </tr>\n",
       "    <tr>\n",
       "      <th>2</th>\n",
       "      <td>0</td>\n",
       "      <td>1467811795</td>\n",
       "      <td>Mon Apr 06 22:20:05 PDT 2009</td>\n",
       "      <td>NO_QUERY</td>\n",
       "      <td>2Hood4Hollywood</td>\n",
       "      <td>@Tatiana_K nope they didn't have it</td>\n",
       "    </tr>\n",
       "    <tr>\n",
       "      <th>3</th>\n",
       "      <td>0</td>\n",
       "      <td>1467812025</td>\n",
       "      <td>Mon Apr 06 22:20:09 PDT 2009</td>\n",
       "      <td>NO_QUERY</td>\n",
       "      <td>mimismo</td>\n",
       "      <td>@twittera que me muera ?</td>\n",
       "    </tr>\n",
       "    <tr>\n",
       "      <th>4</th>\n",
       "      <td>0</td>\n",
       "      <td>1467812723</td>\n",
       "      <td>Mon Apr 06 22:20:19 PDT 2009</td>\n",
       "      <td>NO_QUERY</td>\n",
       "      <td>TLeC</td>\n",
       "      <td>@caregiving I couldn't bear to watch it.  And ...</td>\n",
       "    </tr>\n",
       "  </tbody>\n",
       "</table>\n",
       "</div>"
      ],
      "text/plain": [
       "   class_label          id                          date      flag  \\\n",
       "0            0  1467810369  Mon Apr 06 22:19:45 PDT 2009  NO_QUERY   \n",
       "1            0  1467810672  Mon Apr 06 22:19:49 PDT 2009  NO_QUERY   \n",
       "2            0  1467811795  Mon Apr 06 22:20:05 PDT 2009  NO_QUERY   \n",
       "3            0  1467812025  Mon Apr 06 22:20:09 PDT 2009  NO_QUERY   \n",
       "4            0  1467812723  Mon Apr 06 22:20:19 PDT 2009  NO_QUERY   \n",
       "\n",
       "            userid                                              tweet  \n",
       "0  _TheSpecialOne_  @switchfoot http://twitpic.com/2y1zl - Awww, t...  \n",
       "1    scotthamilton  is upset that he can't update his Facebook by ...  \n",
       "2  2Hood4Hollywood               @Tatiana_K nope they didn't have it   \n",
       "3          mimismo                          @twittera que me muera ?   \n",
       "4             TLeC  @caregiving I couldn't bear to watch it.  And ...  "
      ]
     },
     "execution_count": 4,
     "metadata": {},
     "output_type": "execute_result"
    }
   ],
   "source": [
    "DATASET_COLUMNS  = [\"class_label\", \"id\", \"date\", \"flag\", \"userid\", \"tweet\"]\n",
    "DATASET_ENCODING = \"ISO-8859-1\"\n",
    "p = 0.05\n",
    "data = pd.read_csv('Tweet.data.training.1600000.processed.noemoticon.csv',\n",
    "                      encoding=DATASET_ENCODING , names=DATASET_COLUMNS,\n",
    "                  skiprows=lambda i: i>0 and random.random() > p)\n",
    "\n",
    "data.head()"
   ]
  },
  {
   "cell_type": "code",
   "execution_count": 5,
   "id": "9656a27d",
   "metadata": {},
   "outputs": [
    {
     "data": {
      "text/plain": [
       "(79767, 6)"
      ]
     },
     "execution_count": 5,
     "metadata": {},
     "output_type": "execute_result"
    }
   ],
   "source": [
    "data.shape"
   ]
  },
  {
   "cell_type": "code",
   "execution_count": 6,
   "id": "ff0057ab",
   "metadata": {},
   "outputs": [
    {
     "data": {
      "text/plain": [
       "array([0, 1], dtype=int64)"
      ]
     },
     "execution_count": 6,
     "metadata": {},
     "output_type": "execute_result"
    }
   ],
   "source": [
    "data['class_label'] = data['class_label'].replace(4,1)\n",
    "data.class_label.unique()\n"
   ]
  },
  {
   "cell_type": "code",
   "execution_count": 7,
   "id": "cb5759df",
   "metadata": {},
   "outputs": [
    {
     "data": {
      "text/plain": [
       "[]"
      ]
     },
     "execution_count": 7,
     "metadata": {},
     "output_type": "execute_result"
    },
    {
     "data": {
      "image/png": "[encoded data removed]",
      "text/plain": [
       "<Figure size 432x288 with 1 Axes>"
      ]
     },
     "metadata": {},
     "output_type": "display_data"
    }
   ],
   "source": [
    "ax = data.class_label.value_counts().plot(kind='pie', title='Distribution of data',autopct='%1.0f%%', colors=[\"red\",\"yellow\"])\n",
    "ax.plot()"
   ]
  },
  {
   "cell_type": "code",
   "execution_count": 8,
   "id": "eb674be8",
   "metadata": {},
   "outputs": [
    {
     "name": "stdout",
     "output_type": "stream",
     "text": [
      "class_label    0\n",
      "id             0\n",
      "date           0\n",
      "flag           0\n",
      "userid         0\n",
      "tweet          0\n",
      "dtype: int64\n"
     ]
    }
   ],
   "source": [
    "print(data.isnull().sum())"
   ]
  },
  {
   "cell_type": "code",
   "execution_count": 9,
   "id": "5b251874",
   "metadata": {},
   "outputs": [
    {
     "name": "stdout",
     "output_type": "stream",
     "text": [
      "79767\n",
      "79567\n"
     ]
    }
   ],
   "source": [
    "print(len(data.tweet))\n",
    "print(len(data.tweet.unique()))"
   ]
  },
  {
   "cell_type": "code",
   "execution_count": 10,
   "id": "caefa06c",
   "metadata": {},
   "outputs": [],
   "source": [
    "data.drop_duplicates(subset=['tweet', 'userid'],keep = False, inplace = True)"
   ]
  },
  {
   "cell_type": "code",
   "execution_count": 11,
   "id": "776bbd05",
   "metadata": {},
   "outputs": [],
   "source": [
    "def remove_users_and_url(i):\n",
    "    temp=\" \".join(filter(lambda x:x[0]!='@', i.split())) \n",
    "    temp_1=re.sub(r\"http\\S+\", \"\", temp)                       \n",
    "    temp_2 =\" \".join(filter(lambda x:x[0]!='&', temp_1.split()))  \n",
    "    return temp_2\n",
    "\n",
    "def replace_emoji(a):\n",
    "    x1=a.replace(\":‑)\",\"happy\")\n",
    "    x2=x1.replace(\";)\",\"happy\")\n",
    "    x3=x2.replace(\":-}\",\"happy\")\n",
    "    x4=x3.replace(\":)\",\"happy\")\n",
    "    x5=x4.replace(\":}\",\"happy\")\n",
    "    x6=x5.replace(\"=]\",\"happy\")\n",
    "    x7=x6.replace(\"=)\",\"happy\")\n",
    "    x8=x7.replace(\":D\",\"happy\")\n",
    "    x9=x8.replace(\"xD\",\"happy\")\n",
    "    x10=x9.replace(\"XD\",\"happy\")\n",
    "    x11=x10.replace(\":‑(\",\"sad\")    \n",
    "    x12=x11.replace(\":‑[\",\"sad\")\n",
    "    x13=x12.replace(\":(\",\"sad\")\n",
    "    x14=x13.replace(\"=(\",\"sad\")\n",
    "    x15=x14.replace(\"=/\",\"sad\")\n",
    "    x16=x15.replace(\":[\",\"sad\")\n",
    "    x17=x16.replace(\":{\",\"sad\")\n",
    "  \n",
    "    x18=x17.replace(\":P\",\"playful\")\n",
    "    x19=x18.replace(\"XP\",\"playful\")\n",
    "    x20=x19.replace(\"xp\",\"playful\")\n",
    "  \n",
    "    \n",
    "    x21=x20.replace(\"<3\",\"love\")\n",
    "    x22=x21.replace(\":o\",\"shock\")\n",
    "    x23=x22.replace(\":-/\",\"sad\")\n",
    "    x24=x23.replace(\":/\",\"sad\")\n",
    "    x25=x24.replace(\":|\",\"sad\")\n",
    "    return x25\n",
    "\n",
    "def decontract_words(phrase):\n",
    "    # specific\n",
    "    phrase = re.sub(r\"won\\'t\", \"will not\", phrase)\n",
    "    phrase = re.sub(r\"can\\'t\", \"can not\", phrase)\n",
    "\n",
    "    # general\n",
    "    phrase = re.sub(r\"n\\'t\", \" not\", phrase)\n",
    "    phrase = re.sub(r\"\\'re\", \" are\", phrase)\n",
    "    phrase = re.sub(r\"\\'s\", \" is\", phrase)   #using regular expressions to expand the contractions\n",
    "    phrase = re.sub(r\"\\'d\", \" would\", phrase)\n",
    "    phrase = re.sub(r\"\\'ll\", \" will\", phrase)\n",
    "    phrase = re.sub(r\"\\'t\", \" not\", phrase)\n",
    "    phrase = re.sub(r\"\\'ve\", \" have\", phrase)\n",
    "    phrase = re.sub(r\"\\'m\", \" am\", phrase)\n",
    "    return phrase\n",
    "\n",
    "def remove_digits(sentence):\n",
    "    sent = re.sub('\\w*\\d\\w*','', sentence)\n",
    "    return sent\n",
    "    \n",
    "def to_lower_text(sentence):\n",
    "    return sentence.lower()\n",
    "\n",
    "\n",
    "stop_words = [\"i\", \"me\", \"my\", \"myself\", \"we\", \"our\",\"will\", \"go\",\"got\",\"ours\", \"ourselves\", \"you\", \"your\", \"yours\", \"yourself\", \"yourselves\", \"he\",\n",
    "      \"him\", \"his\", \"himself\", \"she\", \"her\", \"hers\", \"herself\", \"it\", \"its\", \"itself\", \"they\", \"them\", \"their\", \"theirs\", \"themselves\", \"what\",\n",
    "      \"which\", \"who\", \"whom\", \"this\", \"that\", \"these\", \"those\", \"am\", \"is\", \"are\", \"was\", \"were\", \"be\", \"been\", \"being\", \"have\", \"has\", \"had\",\n",
    "      \"having\", \"do\", \"does\", \"did\", \"doing\", \"a\", \"an\", \"the\", \"and\", \"but\", \"if\", \"or\", \"because\", \"as\", \"until\", \"while\", \"of\", \"at\", \"by\",\n",
    "      \"for\", \"with\", \"about\", \"against\", \"between\", \"into\", \"through\", \"during\", \"before\", \"after\", \"above\", \"below\", \"to\", \"from\", \"up\", \"down\",\n",
    "      \"in\", \"out\", \"on\", \"off\", \"over\", \"under\", \"again\", \"further\", \"then\", \"once\", \"here\", \"there\", \"when\", \"where\", \"why\", \"how\", \"all\", \"any\",\n",
    "      \"both\", \"each\", \"few\", \"more\", \"most\", \"other\", \"some\", \"such\",  \"nor\", \"only\", \"own\", \"same\", \"so\", \"than\", \"too\", \"very\", \"s\", \"t\", \"just\",\n",
    "      \"don\", \"should\", \"now\"]\n",
    "\n",
    "\n",
    "def preprocess(data,stop_words):\n",
    "    data[\"tweet\"]=data[\"tweet\"].apply(remove_users_and_url)\n",
    "    data['tweet']=data['tweet'].apply(replace_emoji)\n",
    "    data['tweet']=data['tweet'].apply(lambda x: to_lower_text(x))\n",
    "    data['tweet']=data['tweet'].apply(lambda x: remove_digits(x))\n",
    "    data[\"tweet\"]=data['tweet'].apply(lambda x: ' '.join([word for word in x.split() if word not in (stop_words)]))\n",
    "    data[\"tweet\"]=data[\"tweet\"].apply(lambda x: re.sub(' +', ' ', x))\n",
    "    data['tweet']=data['tweet'].apply(lambda x: re.sub('[%s]' % re.escape(string.punctuation), '', x))\n",
    "    data['tweet']=data['tweet'].apply(decontract_words)\n",
    "    return data"
   ]
  },
  {
   "cell_type": "code",
   "execution_count": 12,
   "id": "6315133f",
   "metadata": {},
   "outputs": [
    {
     "name": "stdout",
     "output_type": "stream",
     "text": [
      "Wall time: 7.25 s\n"
     ]
    }
   ],
   "source": [
    "%%time\n",
    "data = preprocess(data,stop_words)"
   ]
  },
  {
   "cell_type": "code",
   "execution_count": 13,
   "id": "f0ce5a46",
   "metadata": {},
   "outputs": [
    {
     "data": {
      "text/html": [
       "<div>\n",
       "<style scoped>\n",
       "    .dataframe tbody tr th:only-of-type {\n",
       "        vertical-align: middle;\n",
       "    }\n",
       "\n",
       "    .dataframe tbody tr th {\n",
       "        vertical-align: top;\n",
       "    }\n",
       "\n",
       "    .dataframe thead th {\n",
       "        text-align: right;\n",
       "    }\n",
       "</style>\n",
       "<table border=\"1\" class=\"dataframe\">\n",
       "  <thead>\n",
       "    <tr style=\"text-align: right;\">\n",
       "      <th></th>\n",
       "      <th>class_label</th>\n",
       "      <th>id</th>\n",
       "      <th>date</th>\n",
       "      <th>flag</th>\n",
       "      <th>userid</th>\n",
       "      <th>tweet</th>\n",
       "    </tr>\n",
       "  </thead>\n",
       "  <tbody>\n",
       "    <tr>\n",
       "      <th>0</th>\n",
       "      <td>0</td>\n",
       "      <td>1467810369</td>\n",
       "      <td>Mon Apr 06 22:19:45 PDT 2009</td>\n",
       "      <td>NO_QUERY</td>\n",
       "      <td>_TheSpecialOne_</td>\n",
       "      <td>awww thats bummer shoulda david carr third da...</td>\n",
       "    </tr>\n",
       "    <tr>\n",
       "      <th>1</th>\n",
       "      <td>0</td>\n",
       "      <td>1467810672</td>\n",
       "      <td>Mon Apr 06 22:19:49 PDT 2009</td>\n",
       "      <td>NO_QUERY</td>\n",
       "      <td>scotthamilton</td>\n",
       "      <td>upset cant update facebook texting it might cr...</td>\n",
       "    </tr>\n",
       "    <tr>\n",
       "      <th>2</th>\n",
       "      <td>0</td>\n",
       "      <td>1467811795</td>\n",
       "      <td>Mon Apr 06 22:20:05 PDT 2009</td>\n",
       "      <td>NO_QUERY</td>\n",
       "      <td>2Hood4Hollywood</td>\n",
       "      <td>nope didnt</td>\n",
       "    </tr>\n",
       "    <tr>\n",
       "      <th>3</th>\n",
       "      <td>0</td>\n",
       "      <td>1467812025</td>\n",
       "      <td>Mon Apr 06 22:20:09 PDT 2009</td>\n",
       "      <td>NO_QUERY</td>\n",
       "      <td>mimismo</td>\n",
       "      <td>que muera</td>\n",
       "    </tr>\n",
       "    <tr>\n",
       "      <th>4</th>\n",
       "      <td>0</td>\n",
       "      <td>1467812723</td>\n",
       "      <td>Mon Apr 06 22:20:19 PDT 2009</td>\n",
       "      <td>NO_QUERY</td>\n",
       "      <td>TLeC</td>\n",
       "      <td>couldnt bear watch it thought ua loss embarras...</td>\n",
       "    </tr>\n",
       "  </tbody>\n",
       "</table>\n",
       "</div>"
      ],
      "text/plain": [
       "   class_label          id                          date      flag  \\\n",
       "0            0  1467810369  Mon Apr 06 22:19:45 PDT 2009  NO_QUERY   \n",
       "1            0  1467810672  Mon Apr 06 22:19:49 PDT 2009  NO_QUERY   \n",
       "2            0  1467811795  Mon Apr 06 22:20:05 PDT 2009  NO_QUERY   \n",
       "3            0  1467812025  Mon Apr 06 22:20:09 PDT 2009  NO_QUERY   \n",
       "4            0  1467812723  Mon Apr 06 22:20:19 PDT 2009  NO_QUERY   \n",
       "\n",
       "            userid                                              tweet  \n",
       "0  _TheSpecialOne_   awww thats bummer shoulda david carr third da...  \n",
       "1    scotthamilton  upset cant update facebook texting it might cr...  \n",
       "2  2Hood4Hollywood                                         nope didnt  \n",
       "3          mimismo                                         que muera   \n",
       "4             TLeC  couldnt bear watch it thought ua loss embarras...  "
      ]
     },
     "execution_count": 13,
     "metadata": {},
     "output_type": "execute_result"
    }
   ],
   "source": [
    "data.head()"
   ]
  },
  {
   "cell_type": "code",
   "execution_count": 14,
   "id": "89f8d1da",
   "metadata": {},
   "outputs": [],
   "source": [
    "X=data.drop(['class_label',\"id\",\"date\",\"flag\",\"userid\"], axis = 1)\n",
    "y=data[\"class_label\"].values"
   ]
  },
  {
   "cell_type": "code",
   "execution_count": 15,
   "id": "da2b4bf8",
   "metadata": {},
   "outputs": [],
   "source": [
    "X_train, X_test, y_train, y_test = train_test_split(X, y, test_size = 0.3,random_state=42)\n",
    "vectorizer = TfidfVectorizer(analyzer = \"word\")\n",
    "vectorizer = TfidfVectorizer(min_df=10,ngram_range=(1,3), max_features = 40000) \n",
    "vectorizer.fit( X_train['tweet'].values )\n",
    "x_tr=vectorizer.transform(X_train['tweet'].values)\n",
    "x_te=vectorizer.transform(X_test['tweet'].values)"
   ]
  },
  {
   "cell_type": "code",
   "execution_count": 16,
   "id": "7adf2ddf",
   "metadata": {},
   "outputs": [
    {
     "data": {
      "text/html": [
       "<div>\n",
       "<style scoped>\n",
       "    .dataframe tbody tr th:only-of-type {\n",
       "        vertical-align: middle;\n",
       "    }\n",
       "\n",
       "    .dataframe tbody tr th {\n",
       "        vertical-align: top;\n",
       "    }\n",
       "\n",
       "    .dataframe thead th {\n",
       "        text-align: right;\n",
       "    }\n",
       "</style>\n",
       "<table border=\"1\" class=\"dataframe\">\n",
       "  <thead>\n",
       "    <tr style=\"text-align: right;\">\n",
       "      <th></th>\n",
       "      <th>tweet</th>\n",
       "    </tr>\n",
       "  </thead>\n",
       "  <tbody>\n",
       "    <tr>\n",
       "      <th>20715</th>\n",
       "      <td>no credit lol</td>\n",
       "    </tr>\n",
       "    <tr>\n",
       "      <th>43798</th>\n",
       "      <td>mmm picture barry zito</td>\n",
       "    </tr>\n",
       "    <tr>\n",
       "      <th>72856</th>\n",
       "      <td>rp a ill today</td>\n",
       "    </tr>\n",
       "    <tr>\n",
       "      <th>70014</th>\n",
       "      <td>people not happy livesthat think pathetic keep...</td>\n",
       "    </tr>\n",
       "    <tr>\n",
       "      <th>19875</th>\n",
       "      <td>eh dong use tweet deck ah ngalih saja ku downl...</td>\n",
       "    </tr>\n",
       "  </tbody>\n",
       "</table>\n",
       "</div>"
      ],
      "text/plain": [
       "                                                   tweet\n",
       "20715                                      no credit lol\n",
       "43798                             mmm picture barry zito\n",
       "72856                                     rp a ill today\n",
       "70014  people not happy livesthat think pathetic keep...\n",
       "19875  eh dong use tweet deck ah ngalih saja ku downl..."
      ]
     },
     "execution_count": 16,
     "metadata": {},
     "output_type": "execute_result"
    }
   ],
   "source": [
    "X_train.head()"
   ]
  },
  {
   "cell_type": "code",
   "execution_count": 17,
   "id": "fe252955",
   "metadata": {},
   "outputs": [],
   "source": [
    "vectorizer = TfidfVectorizer(analyzer = \"word\") \n",
    "vectorizer = TfidfVectorizer(min_df=10,ngram_range=(1,3), max_features = 40000) \n",
    "vectorizer.fit(X_train['tweet'].values)\n",
    "x_tr=vectorizer.transform(X_train['tweet'].values)\n",
    "x_te=vectorizer.transform(X_test['tweet'].values)"
   ]
  },
  {
   "cell_type": "code",
   "execution_count": 18,
   "id": "e8c0c64c",
   "metadata": {},
   "outputs": [
    {
     "data": {
      "text/plain": [
       "(55781, 5957)"
      ]
     },
     "execution_count": 18,
     "metadata": {},
     "output_type": "execute_result"
    }
   ],
   "source": [
    "x_tr.shape"
   ]
  },
  {
   "cell_type": "code",
   "execution_count": 49,
   "id": "31b1a6af",
   "metadata": {},
   "outputs": [
    {
     "name": "stderr",
     "output_type": "stream",
     "text": [
      "No handles with labels found to put in legend.\n"
     ]
    },
    {
     "name": "stdout",
     "output_type": "stream",
     "text": [
      "              precision    recall  f1-score   support\n",
      "\n",
      "           0       0.74      0.77      0.76     11960\n",
      "           1       0.76      0.73      0.75     11947\n",
      "\n",
      "    accuracy                           0.75     23907\n",
      "   macro avg       0.75      0.75      0.75     23907\n",
      "weighted avg       0.75      0.75      0.75     23907\n",
      "\n"
     ]
    },
    {
     "data": {
      "image/png": "[encoded data removed]",
      "text/plain": [
       "<Figure size 432x288 with 1 Axes>"
      ]
     },
     "metadata": {
      "needs_background": "light"
     },
     "output_type": "display_data"
    }
   ],
   "source": [
    "from sklearn.naive_bayes import MultinomialNB\n",
    "from sklearn.metrics import classification_report\n",
    "count=0\n",
    "\n",
    "mnb = MultinomialNB()\n",
    "y_pred = mnb.fit(x_tr.toarray(), y_train).predict(x_te.toarray())\n",
    "print(classification_report(y_test, y_pred))\n",
    "\n",
    "\n",
    "\n",
    "import matplotlib.pyplot as plt\n",
    "import scikitplot as skplt\n",
    "false_positive_rate, true_positive_rate, thresholds = roc_curve(y_test, y_pred)\n",
    "roc_auc = auc(false_positive_rate, true_positive_rate)\n",
    "\n",
    "plt.title('ROC')\n",
    "plt.plot(false_positive_rate, true_positive_rate, \"green\" )\n",
    "plt.legend(loc='lower right', prop={'size':8})\n",
    "plt.plot([0,1],[0,1], color='red', linestyle='--')\n",
    "plt.xlim([0.0,1.0])\n",
    "plt.ylim([0.0,1.0])\n",
    "plt.ylabel('True Positive')\n",
    "plt.xlabel('False Positive')\n",
    "plt.show()\n"
   ]
  },
  {
   "cell_type": "code",
   "execution_count": 50,
   "id": "bc636d95",
   "metadata": {},
   "outputs": [
    {
     "name": "stderr",
     "output_type": "stream",
     "text": [
      "No handles with labels found to put in legend.\n"
     ]
    },
    {
     "name": "stdout",
     "output_type": "stream",
     "text": [
      "              precision    recall  f1-score   support\n",
      "\n",
      "           0       0.78      0.75      0.76     11960\n",
      "           1       0.76      0.78      0.77     11947\n",
      "\n",
      "    accuracy                           0.77     23907\n",
      "   macro avg       0.77      0.77      0.77     23907\n",
      "weighted avg       0.77      0.77      0.77     23907\n",
      "\n"
     ]
    },
    {
     "data": {
      "image/png": "[encoded data removed]",
      "text/plain": [
       "<Figure size 432x288 with 1 Axes>"
      ]
     },
     "metadata": {
      "needs_background": "light"
     },
     "output_type": "display_data"
    }
   ],
   "source": [
    "from sklearn.pipeline import make_pipeline\n",
    "from sklearn.preprocessing import StandardScaler\n",
    "from sklearn.metrics import plot_confusion_matrix\n",
    "from sklearn.svm import SVC\n",
    "\n",
    "\n",
    "clf = SVC(kernel='linear', gamma = 'auto')\n",
    "y_pred2 = clf.fit(x_tr, y_train).predict(x_te)\n",
    "\n",
    "print(classification_report(y_test, y_pred2))\n",
    "\n",
    "\n",
    "import matplotlib.pyplot as plt\n",
    "import scikitplot as skplt\n",
    "false_positive_rate, true_positive_rate, thresholds = roc_curve(y_test, y_pred2)\n",
    "roc_auc = auc(false_positive_rate, true_positive_rate)\n",
    "\n",
    "plt.title('ROC')\n",
    "plt.plot(false_positive_rate, true_positive_rate, \"green\" )\n",
    "plt.legend(loc='lower right', prop={'size':8})\n",
    "plt.plot([0,1],[0,1], color='red', linestyle='--')\n",
    "plt.xlim([0.0,1.0])\n",
    "plt.ylim([0.0,1.0])\n",
    "plt.ylabel('True Positive')\n",
    "plt.xlabel('False Positive')\n",
    "plt.show()\n",
    "\n"
   ]
  },
  {
   "cell_type": "code",
   "execution_count": null,
   "id": "a2517b86",
   "metadata": {},
   "outputs": [],
   "source": []
  }
 ],
 "metadata": {
  "kernelspec": {
   "display_name": "Python 3",
   "language": "python",
   "name": "python3"
  },
  "language_info": {
   "codemirror_mode": {
    "name": "ipython",
    "version": 3
   },
   "file_extension": ".py",
   "mimetype": "text/x-python",
   "name": "python",
   "nbconvert_exporter": "python",
   "pygments_lexer": "ipython3",
   "version": "3.8.8"
  }
 },
 "nbformat": 4,
 "nbformat_minor": 5
}
